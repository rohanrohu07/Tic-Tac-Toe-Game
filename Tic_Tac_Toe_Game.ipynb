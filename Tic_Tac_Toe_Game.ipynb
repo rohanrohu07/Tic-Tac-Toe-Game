{
  "nbformat": 4,
  "nbformat_minor": 0,
  "metadata": {
    "colab": {
      "provenance": []
    },
    "kernelspec": {
      "name": "python3",
      "display_name": "Python 3"
    },
    "language_info": {
      "name": "python"
    }
  },
  "cells": [
    {
      "cell_type": "code",
      "execution_count": null,
      "metadata": {
        "id": "3qg0octeGMDO"
      },
      "outputs": [],
      "source": [
        "#Tic Tac Toe Game\n",
        "def print_board(board):\n",
        "    print(\" \"+board[1]+\" | \"+board[2]+\" | \"+board[3])\n",
        "    print(\"---|---|---\")\n",
        "    print(\" \"+board[4]+\" | \"+board[5]+\" | \"+board[6])\n",
        "    print(\"---|---|---\")\n",
        "    print(\" \"+board[7]+\" | \"+board[8]+\" | \"+board[9])\n",
        "    \n",
        "\n",
        "\n",
        "def check_win(board, player):\n",
        "    win_combinations = [(1, 2, 3), (4, 5, 6), (7, 8, 9),\n",
        "                        (1, 4, 7), (2, 5, 8), (3, 6, 9),\n",
        "                        (1, 5, 9), (3, 5, 7)]\n",
        "\n",
        "    for combo in win_combinations:\n",
        "        if board[combo[0]] == board[combo[1]] == board[combo[2]] == player:\n",
        "            return True\n",
        "    return False\n",
        "\n",
        "def main():\n",
        "    board = [' ', ' ', ' ', ' ', ' ', ' ', ' ', ' ', ' ', ' ']\n",
        "    player = 'X'\n",
        "    game_over = False\n",
        "    Rules='''Rules:\n",
        "    1. Tic Tac Toe is played on a 3x3 grid.\n",
        "    2. There are two players in the game: X and O.\n",
        "    3. The player who goes first is X, and the player who goes second is O.\n",
        "    4. Players take turns placing their symbol (X or O) on the grid.\n",
        "    5. The objective of the game is to get three of your symbols in a row horizontally, vertically, or diagonally.\n",
        "    6. Once a player gets three of their symbols in a row, they win the game.\n",
        "    7. If all the squares on the grid are filled and no player has won, the game is considered a draw.'''\n",
        "    while True:\n",
        "        print(\"\\nWelcome to Tic Tac Toe!!\")\n",
        "        print_board(board)\n",
        "        print(\"\\n1. Play Game\")\n",
        "        print(\"2. Rules\")\n",
        "        print(\"3. Quit\")\n",
        "        choice = input('\\nEnter Your Choice : ')\n",
        "        if choice == '1':\n",
        "            while not game_over:\n",
        "                print_board(board)\n",
        "                print(\"\\nIt is \" + player + \"'s turn.\")\n",
        "                move = int(input(\"Enter a number between 1-9 to make a move: \"))\n",
        "                if board[move] == ' ':\n",
        "                    board[move] = player\n",
        "                    print_board(board)\n",
        "\n",
        "                    if check_win(board, player):\n",
        "                        print(player + \" wins!\")\n",
        "                        game_over = True\n",
        "                    elif ' ' not in board:\n",
        "                        print(\"Tie!\")\n",
        "                        game_over = True\n",
        "                    else:\n",
        "                        player = 'O' if player == 'X' else 'X'\n",
        "                else:\n",
        "                    print(\"That space is taken. Try again!\")\n",
        "        elif choice == '2':\n",
        "            print(Rules)\n",
        "        elif choice == '3':\n",
        "            break\n",
        "        else:\n",
        "            print(\"Invalid choice. Please try again.\")\n",
        "\n",
        "if __name__ == \"__main__\":\n",
        "    main()\n"
      ]
    }
  ]
}